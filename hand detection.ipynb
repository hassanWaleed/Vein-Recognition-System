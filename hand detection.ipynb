{
 "cells": [
  {
   "cell_type": "markdown",
   "id": "2cf7919c",
   "metadata": {},
   "source": [
    "# adding persons data to respective folder"
   ]
  },
  {
   "cell_type": "code",
   "execution_count": 7,
   "id": "8dbd0f73",
   "metadata": {},
   "outputs": [],
   "source": [
    "import os\n",
    "import shutil\n",
    "\n",
    "src_folder = \"images/\"\n",
    "dest_folder = \"persons/\"\n",
    "\n",
    "if not os.path.exists(dest_folder):\n",
    "    os.makedirs(dest_folder)\n",
    "\n",
    "person_names = set()\n",
    "for filename in os.listdir(src_folder):\n",
    "    person_name = filename.split(\"_\")[0] + \"_\" + filename.split(\"_\")[1]\n",
    "    person_names.add(person_name)\n",
    "\n",
    "for person_name in person_names:\n",
    "    person_folder = os.path.join(dest_folder, person_name)\n",
    "    if not os.path.exists(person_folder):\n",
    "        os.makedirs(person_folder)\n",
    "    for filename in os.listdir(src_folder):\n",
    "        if person_name in filename:\n",
    "            src_path = os.path.join(src_folder, filename)\n",
    "            dest_path = os.path.join(person_folder, filename)\n",
    "            shutil.move(src_path, dest_path)\n"
   ]
  },
  {
   "cell_type": "markdown",
   "id": "befabf46",
   "metadata": {},
   "source": [
    "# model"
   ]
  },
  {
   "cell_type": "code",
   "execution_count": 9,
   "id": "2215cee7",
   "metadata": {},
   "outputs": [],
   "source": [
    "# Import necessary libraries\n",
    "import tensorflow as tf\n",
    "from tensorflow import keras\n",
    "import numpy as np\n",
    "import os"
   ]
  },
  {
   "cell_type": "code",
   "execution_count": 47,
   "id": "94aea0a3",
   "metadata": {},
   "outputs": [],
   "source": [
    "# Load the dataset\n",
    "data_dir = 'persons'\n",
    "categories = os.listdir(data_dir)"
   ]
  },
  {
   "cell_type": "code",
   "execution_count": 48,
   "id": "2b6e8bc1",
   "metadata": {},
   "outputs": [],
   "source": [
    "images = []\n",
    "labels = []\n",
    "label_to_id = {}\n",
    "for i, category in enumerate(categories):\n",
    "    label_to_id[category] = i\n",
    "    folder_path = os.path.join(data_dir, category)\n",
    "    for image in os.listdir(folder_path):\n",
    "        image_path = os.path.join(folder_path, image)\n",
    "        image_data = keras.preprocessing.image.load_img(image_path, target_size=(224,224))\n",
    "        image_array = keras.preprocessing.image.img_to_array(image_data)\n",
    "        images.append(image_array)\n",
    "        labels.append(i)"
   ]
  },
  {
   "cell_type": "code",
   "execution_count": 40,
   "id": "9f8127be",
   "metadata": {},
   "outputs": [],
   "source": [
    "# Preprocess the data\n",
    "images = np.array(images)\n",
    "labels = np.array(labels)"
   ]
  },
  {
   "cell_type": "code",
   "execution_count": 17,
   "id": "b605d954",
   "metadata": {},
   "outputs": [],
   "source": [
    "# Split the data into train and test sets\n",
    "train_images = images[:int(0.8*len(images))]\n",
    "train_labels = labels[:int(0.8*len(labels))]\n",
    "test_images = images[int(0.8*len(images)):]\n",
    "test_labels = labels[int(0.8*len(labels)):]"
   ]
  },
  {
   "cell_type": "code",
   "execution_count": 18,
   "id": "19dc9336",
   "metadata": {},
   "outputs": [],
   "source": [
    "# One-hot encode the labels\n",
    "train_labels = tf.keras.utils.to_categorical(train_labels, num_classes=len(categories))\n",
    "test_labels = tf.keras.utils.to_categorical(test_labels, num_classes=len(categories))"
   ]
  },
  {
   "cell_type": "code",
   "execution_count": 19,
   "id": "2cf4998c",
   "metadata": {},
   "outputs": [],
   "source": [
    "# Build the model\n",
    "model = keras.Sequential([\n",
    "    keras.layers.Conv2D(32, (3,3), activation='relu', input_shape=(224,224,3)),\n",
    "    keras.layers.MaxPooling2D(2,2),\n",
    "    keras.layers.Conv2D(64, (3,3), activation='relu'),\n",
    "    keras.layers.MaxPooling2D(2,2),\n",
    "    keras.layers.Conv2D(128, (3,3), activation='relu'),\n",
    "    keras.layers.MaxPooling2D(2,2),\n",
    "    keras.layers.Flatten(),\n",
    "    keras.layers.Dense(512, activation='relu'),\n",
    "    keras.layers.Dense(len(categories), activation='softmax')\n",
    "])"
   ]
  },
  {
   "cell_type": "code",
   "execution_count": 20,
   "id": "f2434b37",
   "metadata": {},
   "outputs": [],
   "source": [
    "# Compile the model\n",
    "model.compile(optimizer='adam', loss='categorical_crossentropy', metrics=['accuracy'])\n"
   ]
  },
  {
   "cell_type": "code",
   "execution_count": 21,
   "id": "c8747d9f",
   "metadata": {},
   "outputs": [
    {
     "name": "stdout",
     "output_type": "stream",
     "text": [
      "Epoch 1/10\n",
      "5/5 [==============================] - 12s 2s/step - loss: 198.5012 - accuracy: 0.0506\n",
      "Epoch 2/10\n",
      "5/5 [==============================] - 11s 2s/step - loss: 8.2378 - accuracy: 0.2848\n",
      "Epoch 3/10\n",
      "5/5 [==============================] - 11s 2s/step - loss: 2.0286 - accuracy: 0.4873\n",
      "Epoch 4/10\n",
      "5/5 [==============================] - 11s 2s/step - loss: 0.6583 - accuracy: 0.8038\n",
      "Epoch 5/10\n",
      "5/5 [==============================] - 10s 2s/step - loss: 0.1846 - accuracy: 0.9430\n",
      "Epoch 6/10\n",
      "5/5 [==============================] - 10s 2s/step - loss: 0.0417 - accuracy: 0.9873\n",
      "Epoch 7/10\n",
      "5/5 [==============================] - 9s 2s/step - loss: 0.0079 - accuracy: 1.0000\n",
      "Epoch 8/10\n",
      "5/5 [==============================] - 9s 2s/step - loss: 0.0033 - accuracy: 1.0000\n",
      "Epoch 9/10\n",
      "5/5 [==============================] - 10s 2s/step - loss: 0.0010 - accuracy: 1.0000\n",
      "Epoch 10/10\n",
      "5/5 [==============================] - 10s 2s/step - loss: 3.9881e-04 - accuracy: 1.0000\n"
     ]
    },
    {
     "data": {
      "text/plain": [
       "<keras.callbacks.History at 0x22258afaf10>"
      ]
     },
     "execution_count": 21,
     "metadata": {},
     "output_type": "execute_result"
    }
   ],
   "source": [
    "# Train the model\n",
    "model.fit(train_images, train_labels, epochs=10)"
   ]
  },
  {
   "cell_type": "markdown",
   "id": "72cab105",
   "metadata": {},
   "source": [
    "###### saving the model"
   ]
  },
  {
   "cell_type": "code",
   "execution_count": 34,
   "id": "5ad6fa43",
   "metadata": {},
   "outputs": [],
   "source": [
    "# Save the model\n",
    "model.save('model.h5')"
   ]
  },
  {
   "cell_type": "markdown",
   "id": "9fd49e19",
   "metadata": {},
   "source": [
    "# custom input"
   ]
  },
  {
   "cell_type": "markdown",
   "id": "6044665b",
   "metadata": {},
   "source": [
    "###### loading the model"
   ]
  },
  {
   "cell_type": "code",
   "execution_count": 42,
   "id": "6b4d4c72",
   "metadata": {},
   "outputs": [],
   "source": [
    "# Load the model\n",
    "loaded_model = keras.models.load_model('model.h5')"
   ]
  },
  {
   "cell_type": "code",
   "execution_count": 68,
   "id": "e90453b6",
   "metadata": {},
   "outputs": [
    {
     "name": "stderr",
     "output_type": "stream",
     "text": [
      "C:\\Users\\PsychicPowers\\AppData\\Local\\Temp\\ipykernel_21312\\534911615.py:5: DeprecationWarning: ANTIALIAS is deprecated and will be removed in Pillow 10 (2023-07-01). Use Resampling.LANCZOS instead.\n",
      "  img = img.resize((width, baseheight), Image.ANTIALIAS)\n"
     ]
    }
   ],
   "source": [
    "from PIL import Image\n",
    "baseheight = 224\n",
    "img = Image.open('3.png')\n",
    "width = 224\n",
    "img = img.resize((width, baseheight), Image.ANTIALIAS)"
   ]
  },
  {
   "cell_type": "code",
   "execution_count": 72,
   "id": "d3591715",
   "metadata": {},
   "outputs": [],
   "source": [
    "# Load the image\n",
    "image_path = '3.png'\n",
    "image_data = keras.preprocessing.image.load_img(image_path, target_size=(224,224))\n",
    "image_array = keras.preprocessing.image.img_to_array(image_data)"
   ]
  },
  {
   "cell_type": "code",
   "execution_count": null,
   "id": "e61df0ea",
   "metadata": {},
   "outputs": [],
   "source": []
  },
  {
   "cell_type": "code",
   "execution_count": null,
   "id": "33e31729",
   "metadata": {},
   "outputs": [],
   "source": []
  },
  {
   "cell_type": "code",
   "execution_count": 65,
   "id": "b6379e4d",
   "metadata": {},
   "outputs": [],
   "source": [
    "# Load the image\n",
    "image_path = 'C:/Users/PsychicPowers/Videos/hand_detection/persons/person_017/person_017_db1_R4.png'\n",
    "image_data = keras.preprocessing.image.load_img(image_path, target_size=(224,224))\n",
    "image_array = keras.preprocessing.image.img_to_array(image_data)"
   ]
  },
  {
   "cell_type": "code",
   "execution_count": 73,
   "id": "04043507",
   "metadata": {},
   "outputs": [
    {
     "name": "stdout",
     "output_type": "stream",
     "text": [
      "1/1 [==============================] - 0s 99ms/step\n"
     ]
    }
   ],
   "source": [
    "# Preprocess the image\n",
    "image_array = np.expand_dims(image_array, axis=0)\n",
    "\n",
    "# Make prediction\n",
    "prediction = loaded_model.predict(image_array)\n",
    "predicted_label = np.argmax(prediction, axis=1)\n",
    "proba = np.argmax(prediction, axis=-1)"
   ]
  },
  {
   "cell_type": "code",
   "execution_count": 74,
   "id": "1db18437",
   "metadata": {},
   "outputs": [
    {
     "name": "stdout",
     "output_type": "stream",
     "text": [
      "Predicted Label: person_020\n",
      "Prediction Probability: [0.04109043]\n"
     ]
    }
   ],
   "source": [
    "# Convert predicted label back to original label\n",
    "original_label = list(label_to_id.keys())[list(label_to_id.values()).index(predicted_label[0])]\n",
    "print('Predicted Label:', original_label)\n",
    "print('Prediction Probability:', prediction[0][proba])"
   ]
  },
  {
   "cell_type": "code",
   "execution_count": null,
   "id": "132858e4",
   "metadata": {},
   "outputs": [],
   "source": []
  }
 ],
 "metadata": {
  "kernelspec": {
   "display_name": "Python 3 (ipykernel)",
   "language": "python",
   "name": "python3"
  },
  "language_info": {
   "codemirror_mode": {
    "name": "ipython",
    "version": 3
   },
   "file_extension": ".py",
   "mimetype": "text/x-python",
   "name": "python",
   "nbconvert_exporter": "python",
   "pygments_lexer": "ipython3",
   "version": "3.9.12"
  }
 },
 "nbformat": 4,
 "nbformat_minor": 5
}
